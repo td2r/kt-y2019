{
  "nbformat": 4,
  "nbformat_minor": 0,
  "metadata": {
    "colab": {
      "name": "naumov_matstat_extra.ipynb",
      "provenance": [],
      "collapsed_sections": []
    },
    "kernelspec": {
      "name": "python3",
      "display_name": "Python 3"
    },
    "language_info": {
      "name": "python"
    }
  },
  "cells": [
    {
      "cell_type": "markdown",
      "source": [
        "# 1\n",
        "## Критерий\n",
        "Основная гипотеза отвергается только в случае, если все элементы выборки $X_i \\in \\mathbf{Z}_{+}$.\n",
        "## Утверждение\n",
        "Вероятность ошибки первого и второго рода равна нулю.\n",
        "## Доказательство\n",
        "Ошибка первого рода - ситуация, в которой $\\forall i: X_i \\in \\mathbf{Z}_{+}$ принадлежали нормальному распределению. Вероятность этого события равна нулю, поскольку вероятность получить натуральное число из непрерывного распределения нулевая.\\\n",
        "Ошибка второго рода - ситуация, в которой $\\exists i: X_i \\notin \\mathbf{Z}_{+}$, при этом выборка из распределения Пуассона. Такая ситуация невозможна, поскольку носитель распределения Пуассона $\\mathbf{Z}_{+}$"
      ],
      "metadata": {
        "id": "yed37Wv7rhz0"
      }
    },
    {
      "cell_type": "markdown",
      "source": [
        "# 2\n",
        "Распишем формулу Байеса для нашей задачи\n",
        "$$P(p \\mid X) = \\frac{P(X \\mid p) \\cdot P(p)}{\\frac{1}{5}P\\left(X \\mid \\frac{1}{3}\\right) + \\frac{4}{5}P\\left(X \\mid \\frac{2}{3}\\right)}$$\n",
        "$$P(X \\mid p) = \\prod\\limits_{i=1}^n{\\binom{m}{X_i}p^{X_i}q^{m-X_i}}$$\n",
        "Среди $p = \\frac{1}{3}$ и $p = \\frac{2}{3}$ выберем ту, значение $P(p \\mid X)$ при которой больше. Заметим, что знаменатель этой величины не зависит от $p$, поэтому можно смотреть только на произведение $P(X \\mid p) \\cdot P(p)$. Таким образом, критерий выглядит как:\n",
        "$$P\\left(\\frac{1}{3} \\mid X\\right) \\leq P\\left(\\frac{2}{3} \\mid X\\right)$$\n",
        "$$P\\left(X \\mid \\frac{1}{3}\\right) \\cdot P\\left(\\frac{1}{3}\\right) \\leq P\\left(X \\mid \\frac{2}{3}\\right) \\cdot P\\left(\\frac{2}{3}\\right)$$\n",
        "$$\\frac{1}{5} \\cdot \\prod\\limits_{i=1}^n{\\binom{m}{X_i} \\left(\\frac{1}{3}\\right)^{X_i} \\left(\\frac{2}{3}\\right)^{m-X_i}} \\leq \\frac{4}{5} \\cdot \\prod\\limits_{i=1}^n{\\binom{m}{X_i} \\left(\\frac{2}{3}\\right)^{X_i} \\left(\\frac{1}{3}\\right)^{m-X_i}}$$\n",
        "$$\\prod\\limits_{i=1}^n{2^{m-X_i}} \\leq 4\\prod\\limits_{i=1}^n{2^{X_i}}$$\n",
        "$$2^{nm-\\sum\\limits_{i=1}^n{X_i}} \\leq 2^{2+\\sum\\limits_{i=1}^n{X_i}}$$\n",
        "$$nm \\leq 2 + 2\\sum\\limits_{i=1}^n{X_i}$$\n",
        "$$\\frac{m}{2} \\leq \\frac{1}{n} + \\overline{X}$$"
      ],
      "metadata": {
        "id": "xxeVSt-msD3B"
      }
    },
    {
      "cell_type": "markdown",
      "source": [
        "# 3\n",
        "Даны две выборки из нормального распределения $X_{1..n}$ и $Y_{1..m}$ с известными средними $\\mu_1$ и $\\mu_2$. Построим критерий для проверки равенства их дисперсий.\\\n",
        "Исходя из предположения, что основная гипотеза верна ($\\sigma_1 = \\sigma_2 = \\sigma$), построим статистику следующим образом. Приведем каждый элемент выборки к стандартному нормальному распределению\n",
        "$$\\frac{X_i - \\mu_1}{\\sigma}$$\n",
        "$$\\frac{Y_i - \\mu_2}{\\sigma}$$\n",
        "Сумма квадратов данных величин по каждой из выборок будет иметь распределение Пирсона со степенями свободы $n$ и $m$ соответственно. Значит, поделив каждое на размер выборки, а затем друг на друга, мы получим распределение Фишера со степенями свободы $n, m$. Таким образом, итоговая статистика $f$ считается как:\n",
        "$$f = \\frac{m}{n} \\cdot \\frac{\\sum\\limits_{i=1}^n{\\frac{(X_i - \\mu_1)^2}{\\sigma}}}{\\sum\\limits_{i=1}^m{\\frac{(Y_i - \\mu_2)^2}{\\sigma}}} = \\frac{m}{n} \\cdot \\frac{\\sum\\limits_{i=1}^n{(X_i - \\mu_1)^2}}{\\sum\\limits_{i=1}^m{(Y_i - \\mu_2)^2}} \\sim F(n,m)$$"
      ],
      "metadata": {
        "id": "i3GBZkJ9tOdB"
      }
    },
    {
      "cell_type": "markdown",
      "source": [
        "# 4\n",
        "Необходимым условием для использования однофакторного дисперсионного анализа является равенство дисперсий, на которое мы будем полагаться.\n",
        "## Критерий Стьюдента\n",
        "$$t = \\frac{\\overline{X} - \\overline{Y}}{\\sqrt{\\frac{\\sum\\limits_{i=1}^n{(\\overline{X} - X_i)^2} + \\sum\\limits_{i=1}^m{(\\overline{Y} - Y_i)^2}}{n + m - 2}} \\cdot \\sqrt{\\frac{1}{n} + \\frac{1}{m}}} \\sim T(n + m - 2) \\sim \\frac{N(0, 1)}{\\sqrt{\\frac{H(n + m - 2)}{n + m - 2}}}$$\n",
        "## Однофакторный дисперсионный анализ\n",
        "$$\\rho = (n + m - 2) \\cdot \\frac{S_{out}^2}{S_{in}^2} \\sim F(1, n + m - 2) \\sim (n + m - 2) \\cdot \\frac{N^2(0, 1)}{H(n + m - 2)}$$\n",
        "Где $S_{in}$ - межгрупповая дисперсия, $S_{out}$ - внутригрупповая дисперсия.\n",
        "## Эквивалентность\n",
        "Как можно легко заметить, статистики $t$ и $\\rho$ эквивалентны с точностью до квадрата $$t^2 \\sim \\rho$$ а значит являются эквивалентными с точки зрения статистической значимости."
      ],
      "metadata": {
        "id": "ustPJHFKtsb6"
      }
    },
    {
      "cell_type": "markdown",
      "source": [
        "## Экспериментальная проверка"
      ],
      "metadata": {
        "id": "-qFiP43zuNKe"
      }
    },
    {
      "cell_type": "code",
      "source": [
        "from scipy.stats import norm, ttest_ind, f_oneway, randint\n",
        "from math import *\n",
        "\n",
        "eps = 1e-9\n",
        "ssize = 1000\n",
        "\n",
        "def eq(a, b):\n",
        "  return abs(a - b) < eps\n",
        "\n",
        "def check(loc1, loc2):\n",
        "  a = norm.rvs(loc=loc1, size=ssize)\n",
        "  b = norm.rvs(loc=loc2, size=ssize)\n",
        "  s1, p1 = ttest_ind(a, b, equal_var=True)\n",
        "  s2, p2 = f_oneway(a, b)\n",
        "  if not eq(abs(s1), sqrt(s2)) or not eq(p1, p2):\n",
        "    print(\"Fail\")\n",
        "    print(s1, p1)\n",
        "    print(s2, p2)\n",
        "    exit(1)\n",
        "\n",
        "for i in range(40):\n",
        "  loc1 = randint.rvs(-10, 10)\n",
        "  loc2 = randint.rvs(-10, 10)\n",
        "  check(loc1, loc2)\n",
        "\n",
        "for i in range(10):\n",
        "  loc = randint.rvs(-10, 10)\n",
        "  check(loc, loc)\n",
        "\n",
        "print(\"Success\")"
      ],
      "metadata": {
        "colab": {
          "base_uri": "https://localhost:8080/"
        },
        "id": "pgJiBtWJuLy3",
        "outputId": "e1fbe51c-37e6-4c32-c08f-986c48cc046f"
      },
      "execution_count": null,
      "outputs": [
        {
          "output_type": "stream",
          "name": "stdout",
          "text": [
            "Success\n"
          ]
        }
      ]
    },
    {
      "cell_type": "markdown",
      "source": [
        "# 5\n",
        "Пользуясь экспертом, который умеет сравнивать двух детей, мы можем придумать меру способности к математике. Для этого отсортируем детей при помощи сравнений (например быстрой сортировкой Хоара), после чего будем перебирать детей по возрастающей. Самому \"неинтересующемуся\" ребенку выдадим меру 1. Каждому следующему выдадим значение предыдущего +1, если он более увлечен математикой; или же значение предыдущего, если они одинаково увлечены. Точно такую же меру можно ввести для увлеченности настольными играми. Теперь у нас формально оцифрованы интересуемые параметры. Введенные меры не оценивают увлеченность математикой количественно, только качественно. Для оценки существования линейной взаимосвязи между некими \"истинными\" мерами увлеченностями подойдет коэффициент корреляции Спирмена, который является ранговым и не зависит от монотонных преобразований параметров (при переходе от \"истинной\" меры к ранговой порядок детей не поменялся)."
      ],
      "metadata": {
        "id": "wLBJXqusaRoI"
      }
    },
    {
      "cell_type": "markdown",
      "source": [
        "# 6\n",
        "Грубая реализация алгоритма недобросовестных исследователей (перебор границы для X, перебор границы для Y, подсчет количества точек в каждом квадранте) работает за $O(n^3)$. Соптимизируем до $O(n^2)$. Зафиксируем границу $x_1$ для $X$. Будем перебирать границу $y_1$ для $Y$ и пересчитывать количество $v_{11}$ точек $(x, y) : x \\leq x_1, y \\leq y_1$, которое изначально равно нулю.\n",
        "![6.png](data:image/png;base64,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)\n",
        "При переходе $y_1$ к следующему значению, посмотрим, не больше ли x-координата новой точки, чем $x_1$. Если да - значение $v_{11}$ увеличилось на 1, иначе - осталось прежним. Остальные квадранты выражаются через $v_{11}$, $x_1$ и $y_1$.\n",
        "$$v_{12} = y_1 - v_{11}$$\n",
        "$$v_{21} = x_1 - v_{11}$$\n",
        "$$v_{22} = n - x_1 - y_1 + v_{11}$$"
      ],
      "metadata": {
        "id": "dn3la4g5aS3m"
      }
    },
    {
      "cell_type": "code",
      "source": [
        "from math import *\n",
        "from scipy.stats import norm, uniform\n",
        "\n",
        "N = 100\n",
        "EPS = 1e-6\n",
        "CRIT = 3.8\n",
        "SIZE = 1000\n",
        "rejected = 0\n",
        "\n",
        "def generate():\n",
        "    x = list(uniform.rvs(size=SIZE))\n",
        "    y = list(norm.rvs(size=SIZE))\n",
        "    return list(zip(x, y))\n",
        "\n",
        "def f(Vij, Xi, Yj):\n",
        "    prod = Xi * Yj\n",
        "    return (Vij - prod / SIZE) ** 2 / prod\n",
        "\n",
        "def test(sample):\n",
        "    global rejected\n",
        "    xs = sample.copy()\n",
        "    ys = sample.copy()\n",
        "    xs.sort(key=lambda x: x[0])\n",
        "    ys.sort(key=lambda x: x[1])\n",
        "    chi = 0\n",
        "    for i in range(SIZE - 1):\n",
        "        x1 = i + 1\n",
        "        v11 = 0\n",
        "        for j in range(SIZE - 1):\n",
        "            y1 = j + 1\n",
        "            if ys[j][0] <= xs[i][0]:\n",
        "                v11 += 1\n",
        "            chi = max(chi,\n",
        "                    f(v11, x1, y1) +\n",
        "                    f(y1 - v11, SIZE - x1, y1) +\n",
        "                    f(x1 - v11, x1, SIZE - y1) +\n",
        "                    f(SIZE - x1 - y1 + v11, SIZE - x1, SIZE - y1))\n",
        "    chi *= SIZE\n",
        "    if chi > CRIT:\n",
        "        rejected += 1\n",
        "\n",
        "for i in range(N):\n",
        "    test(generate())\n",
        "\n",
        "print(rejected)\n",
        "print(rejected / N)"
      ],
      "metadata": {
        "colab": {
          "base_uri": "https://localhost:8080/"
        },
        "id": "PuNzv-omhoul",
        "outputId": "51edeee9-355d-4909-d141-e9459e98f147"
      },
      "execution_count": null,
      "outputs": [
        {
          "output_type": "stream",
          "name": "stdout",
          "text": [
            "100\n",
            "1.0\n"
          ]
        }
      ]
    },
    {
      "cell_type": "markdown",
      "source": [
        "# 7"
      ],
      "metadata": {
        "id": "UAberuFXaT_A"
      }
    },
    {
      "cell_type": "code",
      "source": [
        "import numpy as np\n",
        "import pandas as pd\n",
        "import scipy as sc\n",
        "import seaborn as sns\n",
        "import matplotlib.pyplot as plt\n",
        "from sklearn.linear_model import LinearRegression\n",
        "from math import *"
      ],
      "metadata": {
        "id": "2xoKw2l17qjJ"
      },
      "execution_count": null,
      "outputs": []
    },
    {
      "cell_type": "markdown",
      "source": [
        "## a"
      ],
      "metadata": {
        "id": "bOcO6pzhG_1D"
      }
    },
    {
      "cell_type": "code",
      "source": [
        "df = pd.read_csv('data_regr_penalty.csv')[['x1', 'x2', 'x3', 'y']]\n",
        "df.head()"
      ],
      "metadata": {
        "colab": {
          "base_uri": "https://localhost:8080/",
          "height": 206
        },
        "id": "efGjmWA70Nxl",
        "outputId": "4653e7a7-68e2-4082-f1e9-e2fa61ed1baa"
      },
      "execution_count": null,
      "outputs": [
        {
          "output_type": "execute_result",
          "data": {
            "text/html": [
              "\n",
              "  <div id=\"df-d48d5c80-b001-4275-a3fa-77150ffaa93e\">\n",
              "    <div class=\"colab-df-container\">\n",
              "      <div>\n",
              "<style scoped>\n",
              "    .dataframe tbody tr th:only-of-type {\n",
              "        vertical-align: middle;\n",
              "    }\n",
              "\n",
              "    .dataframe tbody tr th {\n",
              "        vertical-align: top;\n",
              "    }\n",
              "\n",
              "    .dataframe thead th {\n",
              "        text-align: right;\n",
              "    }\n",
              "</style>\n",
              "<table border=\"1\" class=\"dataframe\">\n",
              "  <thead>\n",
              "    <tr style=\"text-align: right;\">\n",
              "      <th></th>\n",
              "      <th>x1</th>\n",
              "      <th>x2</th>\n",
              "      <th>x3</th>\n",
              "      <th>y</th>\n",
              "    </tr>\n",
              "  </thead>\n",
              "  <tbody>\n",
              "    <tr>\n",
              "      <th>0</th>\n",
              "      <td>-0.659200</td>\n",
              "      <td>-0.456259</td>\n",
              "      <td>2.593243</td>\n",
              "      <td>-0.704146</td>\n",
              "    </tr>\n",
              "    <tr>\n",
              "      <th>1</th>\n",
              "      <td>-1.703340</td>\n",
              "      <td>-0.182389</td>\n",
              "      <td>0.397844</td>\n",
              "      <td>1.929837</td>\n",
              "    </tr>\n",
              "    <tr>\n",
              "      <th>2</th>\n",
              "      <td>-1.379538</td>\n",
              "      <td>-0.745567</td>\n",
              "      <td>1.501915</td>\n",
              "      <td>-3.894091</td>\n",
              "    </tr>\n",
              "    <tr>\n",
              "      <th>3</th>\n",
              "      <td>-1.746047</td>\n",
              "      <td>0.214177</td>\n",
              "      <td>1.157963</td>\n",
              "      <td>-6.418149</td>\n",
              "    </tr>\n",
              "    <tr>\n",
              "      <th>4</th>\n",
              "      <td>-1.898107</td>\n",
              "      <td>-0.534851</td>\n",
              "      <td>1.464105</td>\n",
              "      <td>-10.468460</td>\n",
              "    </tr>\n",
              "  </tbody>\n",
              "</table>\n",
              "</div>\n",
              "      <button class=\"colab-df-convert\" onclick=\"convertToInteractive('df-d48d5c80-b001-4275-a3fa-77150ffaa93e')\"\n",
              "              title=\"Convert this dataframe to an interactive table.\"\n",
              "              style=\"display:none;\">\n",
              "        \n",
              "  <svg xmlns=\"http://www.w3.org/2000/svg\" height=\"24px\"viewBox=\"0 0 24 24\"\n",
              "       width=\"24px\">\n",
              "    <path d=\"M0 0h24v24H0V0z\" fill=\"none\"/>\n",
              "    <path d=\"M18.56 5.44l.94 2.06.94-2.06 2.06-.94-2.06-.94-.94-2.06-.94 2.06-2.06.94zm-11 1L8.5 8.5l.94-2.06 2.06-.94-2.06-.94L8.5 2.5l-.94 2.06-2.06.94zm10 10l.94 2.06.94-2.06 2.06-.94-2.06-.94-.94-2.06-.94 2.06-2.06.94z\"/><path d=\"M17.41 7.96l-1.37-1.37c-.4-.4-.92-.59-1.43-.59-.52 0-1.04.2-1.43.59L10.3 9.45l-7.72 7.72c-.78.78-.78 2.05 0 2.83L4 21.41c.39.39.9.59 1.41.59.51 0 1.02-.2 1.41-.59l7.78-7.78 2.81-2.81c.8-.78.8-2.07 0-2.86zM5.41 20L4 18.59l7.72-7.72 1.47 1.35L5.41 20z\"/>\n",
              "  </svg>\n",
              "      </button>\n",
              "      \n",
              "  <style>\n",
              "    .colab-df-container {\n",
              "      display:flex;\n",
              "      flex-wrap:wrap;\n",
              "      gap: 12px;\n",
              "    }\n",
              "\n",
              "    .colab-df-convert {\n",
              "      background-color: #E8F0FE;\n",
              "      border: none;\n",
              "      border-radius: 50%;\n",
              "      cursor: pointer;\n",
              "      display: none;\n",
              "      fill: #1967D2;\n",
              "      height: 32px;\n",
              "      padding: 0 0 0 0;\n",
              "      width: 32px;\n",
              "    }\n",
              "\n",
              "    .colab-df-convert:hover {\n",
              "      background-color: #E2EBFA;\n",
              "      box-shadow: 0px 1px 2px rgba(60, 64, 67, 0.3), 0px 1px 3px 1px rgba(60, 64, 67, 0.15);\n",
              "      fill: #174EA6;\n",
              "    }\n",
              "\n",
              "    [theme=dark] .colab-df-convert {\n",
              "      background-color: #3B4455;\n",
              "      fill: #D2E3FC;\n",
              "    }\n",
              "\n",
              "    [theme=dark] .colab-df-convert:hover {\n",
              "      background-color: #434B5C;\n",
              "      box-shadow: 0px 1px 3px 1px rgba(0, 0, 0, 0.15);\n",
              "      filter: drop-shadow(0px 1px 2px rgba(0, 0, 0, 0.3));\n",
              "      fill: #FFFFFF;\n",
              "    }\n",
              "  </style>\n",
              "\n",
              "      <script>\n",
              "        const buttonEl =\n",
              "          document.querySelector('#df-d48d5c80-b001-4275-a3fa-77150ffaa93e button.colab-df-convert');\n",
              "        buttonEl.style.display =\n",
              "          google.colab.kernel.accessAllowed ? 'block' : 'none';\n",
              "\n",
              "        async function convertToInteractive(key) {\n",
              "          const element = document.querySelector('#df-d48d5c80-b001-4275-a3fa-77150ffaa93e');\n",
              "          const dataTable =\n",
              "            await google.colab.kernel.invokeFunction('convertToInteractive',\n",
              "                                                     [key], {});\n",
              "          if (!dataTable) return;\n",
              "\n",
              "          const docLinkHtml = 'Like what you see? Visit the ' +\n",
              "            '<a target=\"_blank\" href=https://colab.research.google.com/notebooks/data_table.ipynb>data table notebook</a>'\n",
              "            + ' to learn more about interactive tables.';\n",
              "          element.innerHTML = '';\n",
              "          dataTable['output_type'] = 'display_data';\n",
              "          await google.colab.output.renderOutput(dataTable, element);\n",
              "          const docLink = document.createElement('div');\n",
              "          docLink.innerHTML = docLinkHtml;\n",
              "          element.appendChild(docLink);\n",
              "        }\n",
              "      </script>\n",
              "    </div>\n",
              "  </div>\n",
              "  "
            ],
            "text/plain": [
              "         x1        x2        x3          y\n",
              "0 -0.659200 -0.456259  2.593243  -0.704146\n",
              "1 -1.703340 -0.182389  0.397844   1.929837\n",
              "2 -1.379538 -0.745567  1.501915  -3.894091\n",
              "3 -1.746047  0.214177  1.157963  -6.418149\n",
              "4 -1.898107 -0.534851  1.464105 -10.468460"
            ]
          },
          "metadata": {},
          "execution_count": 5
        }
      ]
    },
    {
      "cell_type": "code",
      "source": [
        "def test_norm(param):\n",
        "  if sc.stats.normaltest(df[param]).pvalue < 0.05:\n",
        "    print(f'parameter %s has non-normal distribution' % param)\n",
        "\n",
        "for column in df.columns:\n",
        "  test_norm(column)"
      ],
      "metadata": {
        "colab": {
          "base_uri": "https://localhost:8080/"
        },
        "id": "GoBfAMtY7niz",
        "outputId": "06990b7c-a174-45ac-b07e-8ecc71d2980d"
      },
      "execution_count": null,
      "outputs": [
        {
          "output_type": "stream",
          "name": "stdout",
          "text": [
            "parameter x1 has non-normal distribution\n"
          ]
        }
      ]
    },
    {
      "cell_type": "code",
      "source": [
        "df.x1 = sc.stats.yeojohnson(df.x1)[0]\n",
        "test_norm('x1')"
      ],
      "metadata": {
        "id": "INvYe6hf8qdb"
      },
      "execution_count": null,
      "outputs": []
    },
    {
      "cell_type": "markdown",
      "source": [
        "## b"
      ],
      "metadata": {
        "id": "UxfvyISxHBeE"
      }
    },
    {
      "cell_type": "code",
      "source": [
        "X = df.drop('y', axis=1)\n",
        "Y = df.y"
      ],
      "metadata": {
        "id": "PL9jqam2R58R"
      },
      "execution_count": null,
      "outputs": []
    },
    {
      "cell_type": "code",
      "source": [
        "sns.heatmap(X.corr(), vmin=-1, vmax=1, annot=True)"
      ],
      "metadata": {
        "colab": {
          "base_uri": "https://localhost:8080/",
          "height": 287
        },
        "id": "5BmhzXf3HBKE",
        "outputId": "c1035547-f523-48f6-b358-c7d5f708f55a"
      },
      "execution_count": null,
      "outputs": [
        {
          "output_type": "execute_result",
          "data": {
            "text/plain": [
              "<matplotlib.axes._subplots.AxesSubplot at 0x7f75832ac490>"
            ]
          },
          "metadata": {},
          "execution_count": 9
        },
        {
          "output_type": "display_data",
          "data": {
            "image/png": "[encoded data removed]",
            "text/plain": [
              "<Figure size 432x288 with 2 Axes>"
            ]
          },
          "metadata": {
            "needs_background": "light"
          }
        }
      ]
    },
    {
      "cell_type": "code",
      "source": [
        "print(sc.stats.pearsonr(X.x1, X.x2))\n",
        "print(sc.stats.pearsonr(X.x1, X.x3))\n",
        "print(sc.stats.pearsonr(X.x2, X.x3))"
      ],
      "metadata": {
        "colab": {
          "base_uri": "https://localhost:8080/"
        },
        "id": "6ZyyvxX4gkNa",
        "outputId": "d3d6624c-6a55-48f3-9cc6-46a2864d2751"
      },
      "execution_count": 29,
      "outputs": [
        {
          "output_type": "stream",
          "name": "stdout",
          "text": [
            "(-0.055589054376132666, 0.2673613447617456)\n",
            "(0.016191938649002667, 0.7468115063173661)\n",
            "(0.007711943854352747, 0.8778001784272594)\n"
          ]
        }
      ]
    },
    {
      "cell_type": "markdown",
      "source": [
        "Предикторы не скоррелированы между собой."
      ],
      "metadata": {
        "id": "vNmvZZtlhYXp"
      }
    },
    {
      "cell_type": "markdown",
      "source": [
        "## c"
      ],
      "metadata": {
        "id": "RqoGpAHqLvhJ"
      }
    },
    {
      "cell_type": "code",
      "source": [
        "reg = LinearRegression().fit(X, Y)\n",
        "print(reg.coef_)\n",
        "print('R2 = ' + str(reg.score(X, Y)))"
      ],
      "metadata": {
        "colab": {
          "base_uri": "https://localhost:8080/"
        },
        "id": "rdAgFeVcLwyD",
        "outputId": "30d9b615-ee99-4c8f-8adc-e9aa00bbd6a4"
      },
      "execution_count": null,
      "outputs": [
        {
          "output_type": "stream",
          "name": "stdout",
          "text": [
            "[ 1.94342022  3.28693675 -1.09036101]\n",
            "R2 = 0.6649808679611118\n"
          ]
        }
      ]
    },
    {
      "cell_type": "markdown",
      "source": [
        "## d"
      ],
      "metadata": {
        "id": "jSz-_pE3WPZ9"
      }
    },
    {
      "cell_type": "code",
      "source": [
        "mu1 = np.mean(df.x1)\n",
        "sigma1 = sqrt(np.var(df.x1, ddof=1))\n",
        "mu2 = np.mean(df.x2)\n",
        "sigma2 = sqrt(np.var(df.x2, ddof=1))\n",
        "mu3 = np.mean(df.x3)\n",
        "sigma3 = sqrt(np.var(df.x3, ddof=1))\n",
        "muy = np.mean(df.y)\n",
        "sigmay = sqrt(np.var(df.y, ddof=1))"
      ],
      "metadata": {
        "id": "twy6sEIaWQ0H"
      },
      "execution_count": null,
      "outputs": []
    },
    {
      "cell_type": "code",
      "source": [
        "coef_sample = [LinearRegression().fit(\n",
        "    pd.DataFrame(data={'x1': np.random.normal(loc=mu1, scale=sigma1, size=df.size),\n",
        "                       'x2': np.random.normal(loc=mu2, scale=sigma2, size=df.size),\n",
        "                       'x3': np.random.normal(loc=mu3, scale=sigma3, size=df.size)}),\n",
        "    np.random.normal(loc=muy, scale=sigmay, size=df.size)).coef_ for _ in range(1000)]\n",
        "coef_sample = [[c3[i] for c3 in coef_sample] for i in range(3)]"
      ],
      "metadata": {
        "id": "qefspfuywmem"
      },
      "execution_count": null,
      "outputs": []
    },
    {
      "cell_type": "code",
      "source": [
        "fig, axis = plt.subplots(1, 3)\n",
        "fig.set_figheight(7)\n",
        "fig.set_figwidth(23)\n",
        "for i in range(3):\n",
        "  sns.histplot(coef_sample[i], ax=axis[i])"
      ],
      "metadata": {
        "colab": {
          "base_uri": "https://localhost:8080/",
          "height": 428
        },
        "id": "CvR9R05X4OPN",
        "outputId": "a7cfb9b4-6ed3-4580-ca01-aa542aee495b"
      },
      "execution_count": null,
      "outputs": [
        {
          "output_type": "display_data",
          "data": {
            "image/png": "[encoded data removed]",
            "text/plain": [
              "<Figure size 1656x504 with 3 Axes>"
            ]
          },
          "metadata": {
            "needs_background": "light"
          }
        }
      ]
    },
    {
      "cell_type": "markdown",
      "source": [
        "Все коэффициенты распределены нормально."
      ],
      "metadata": {
        "id": "a1zc1yWE78mN"
      }
    },
    {
      "cell_type": "code",
      "source": [
        "for i in range(3):\n",
        "  q = sc.stats.percentileofscore(coef_sample[i], reg.coef_[i])\n",
        "  if 2.5 < q and q < 97.5:\n",
        "    print(f'x%d not significantly different from zero' % i + 1)"
      ],
      "metadata": {
        "id": "-272sHo_776t"
      },
      "execution_count": null,
      "outputs": []
    },
    {
      "cell_type": "markdown",
      "source": [
        "## e"
      ],
      "metadata": {
        "id": "1ZBO-JjbPUMr"
      }
    },
    {
      "cell_type": "code",
      "source": [
        "def autocorr(s, lag=1):\n",
        "  return np.corrcoef(np.array([s[:-lag], s[lag:]]))[0][1]\n",
        "\n",
        "y = reg.predict(X)\n",
        "autocorr(y)"
      ],
      "metadata": {
        "colab": {
          "base_uri": "https://localhost:8080/"
        },
        "id": "r5vG-45bPVT3",
        "outputId": "1a6931e7-cc53-473e-9e57-2e478e3fe6d4"
      },
      "execution_count": null,
      "outputs": [
        {
          "output_type": "execute_result",
          "data": {
            "text/plain": [
              "-0.03296551933427524"
            ]
          },
          "metadata": {},
          "execution_count": 19
        }
      ]
    },
    {
      "cell_type": "code",
      "source": [
        "err = y[:-1] - y[1:]\n",
        "mu_err = np.mean(err)\n",
        "sigma_err = np.var(err, ddof=1)\n",
        "(mu_err, sigma_err)"
      ],
      "metadata": {
        "colab": {
          "base_uri": "https://localhost:8080/"
        },
        "id": "oUcD8r_5URl-",
        "outputId": "10a6234f-aed6-4d2b-f2f1-38c9b1ffaf38"
      },
      "execution_count": null,
      "outputs": [
        {
          "output_type": "execute_result",
          "data": {
            "text/plain": [
              "(0.00028585285052429966, 34.34449286927897)"
            ]
          },
          "metadata": {},
          "execution_count": 21
        }
      ]
    },
    {
      "cell_type": "code",
      "source": [
        "autocorr_sample = [autocorr(np.random.normal(loc=mu_err, scale=sigma_err, size=df.size)) for _ in range(1000)]\n",
        "sc.stats.percentileofscore(autocorr_sample, autocorr(y))"
      ],
      "metadata": {
        "colab": {
          "base_uri": "https://localhost:8080/"
        },
        "id": "tMcwsY-qVhH-",
        "outputId": "fae8d664-e79a-4f3d-dbab-45e1e20d343f"
      },
      "execution_count": null,
      "outputs": [
        {
          "output_type": "execute_result",
          "data": {
            "text/plain": [
              "9.1"
            ]
          },
          "metadata": {},
          "execution_count": 25
        }
      ]
    },
    {
      "cell_type": "markdown",
      "source": [
        "Остатки не смещены ($\\mu_{err} \\approx 0$) и неавтокоррелируемы."
      ],
      "metadata": {
        "id": "djiznD7MYVGB"
      }
    }
  ]
}